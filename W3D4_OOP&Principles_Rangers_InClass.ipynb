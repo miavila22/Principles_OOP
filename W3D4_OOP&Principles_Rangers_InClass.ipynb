{
 "cells": [
  {
   "cell_type": "markdown",
   "metadata": {},
   "source": [
    " <h1 align = center> Principles of Object Oriented Programming </h1>"
   ]
  },
  {
   "cell_type": "markdown",
   "metadata": {},
   "source": [
    "#### 4 principles\n",
    "- Encapsulation\n",
    "- Inheritance\n",
    "- Polymorphism\n",
    "- Abstraction\n"
   ]
  },
  {
   "cell_type": "markdown",
   "metadata": {},
   "source": [
    "## ENCAPSULATION"
   ]
  },
  {
   "cell_type": "markdown",
   "metadata": {},
   "source": [
    "In encapsulation, the variables of a class can be made hidden from other classes, and can be accessed only through the methods of their current class. Therefore, it is also known as data hiding.\n",
    "<br><br>\n",
    "Encapsulation can be described as a protective barrier that prevents the code and data being randomly accessed by other code defined outside the class. Access to the data and code is tightly controlled by a class."
   ]
  },
  {
   "cell_type": "code",
   "execution_count": null,
   "metadata": {},
   "outputs": [],
   "source": [
    "from datetime import timedelta, date\n",
    "from IPython.display import Image\n",
    "import requests\n",
    "from time import sleep\n",
    "\n",
    "generic_image = 'codeflix.png'\n"
   ]
  },
  {
   "cell_type": "code",
   "execution_count": null,
   "metadata": {},
   "outputs": [],
   "source": [
    "class Video():\n",
    "    def __init__(self):\n",
    "        self.title = None\n",
    "        self.runtime = None\n",
    "        self.language = None \n",
    "        self.cast = []\n",
    "        self.genres = []\n",
    "        self.description = None\n",
    "        self.captions = False \n",
    "        self.ratings = None\n",
    "\n",
    "    def add_title(self):\n",
    "    new_title = input(\"\")\n",
    "    self.title = new_title\n",
    "\n",
    "def __repr__(self):\n",
    "    return f'the {self.ratings} are trash'\n",
    "    \n",
    "    \n",
    "\n",
    "my_video = Video()\n",
    "\n",
    "print(my_video)\n",
    "\n",
    "\n",
    "\n",
    "\n",
    "\n",
    "\n",
    "\n",
    "\n",
    "# dont do it this way anymore\n",
    "# class Car():\n",
    "#     def __init__(self, make, model):\n",
    "#         self.make = make\n",
    "#         self.model = model\n",
    "        \n",
    "#     def __repr__(self):\n",
    "#         return F\"this is a {self.make} {self.model}\"\n",
    "        \n",
    "# honda = Car(\"Honda\", \"Civic\")\n",
    "\n",
    "# print(honda.make)\n",
    "# print(honda)\n",
    "\n",
    "# honda.make = \"chevy\"\n",
    "\n",
    "# class Truck():\n",
    "#     def __init__(self, make, model):\n",
    "#         self.make = make\n",
    "#         self.model = model\n",
    "\n",
    "\n"
   ]
  },
  {
   "cell_type": "code",
   "execution_count": null,
   "metadata": {},
   "outputs": [],
   "source": [
    "class Test_Video():\n",
    "    def __init__(self):\n",
    "        self.title = None\n",
    "\n",
    "    def add_title(self):\n",
    "        new_title = input(\"What are you watching?\")\n",
    "        self.title = new_title\n",
    "\n",
    "\n",
    "    def __repr__ (self):\n",
    "        return f'You are now watching {self.title}'\n",
    "\n",
    "my_video = Test_Video()\n",
    "print(my_video.title)\n",
    "my_video.add_title()\n",
    "print(my_video.title)\n",
    "print(my_video)"
   ]
  },
  {
   "cell_type": "code",
   "execution_count": null,
   "metadata": {},
   "outputs": [],
   "source": []
  },
  {
   "cell_type": "code",
   "execution_count": null,
   "metadata": {},
   "outputs": [],
   "source": []
  },
  {
   "cell_type": "code",
   "execution_count": null,
   "metadata": {},
   "outputs": [],
   "source": []
  },
  {
   "cell_type": "code",
   "execution_count": 25,
   "metadata": {},
   "outputs": [],
   "source": [
    "from datetime import timedelta, date\n",
    "from IPython.display import Image\n",
    "import requests\n",
    "from time import sleep\n",
    "\n",
    "generic_image = 'codeflix.png'\n",
    "\n",
    "class Video():\n",
    "    def __init__(self):\n",
    "        self.title = None\n",
    "        self.length = timedelta()\n",
    "        self.link = generic_image\n",
    "\n",
    "    def play(self):\n",
    "        print(f'Now playing: {self.title}')\n",
    "        display(Image(url = self.link))\n",
    "\n",
    "    def __len__(self):\n",
    "        return self.length\n",
    "\n",
    "    def __repr__(self):\n",
    "        return f'{self.title} is {self.length.seconds} seconds long'\n",
    "\n",
    "\n"
   ]
  },
  {
   "cell_type": "markdown",
   "metadata": {},
   "source": [
    "INHERITANCE"
   ]
  },
  {
   "cell_type": "markdown",
   "metadata": {},
   "source": [
    "\n",
    "Inheritance can be defined as the process where one class acquires the properties (methods and fields) of another.\n",
    "<br>\n",
    "<i>(see above)</i>"
   ]
  },
  {
   "cell_type": "code",
   "execution_count": 26,
   "metadata": {},
   "outputs": [],
   "source": [
    "#episode inherits from video class. Remember the nightblade inherits from Player_character in the homework game you did. \n",
    "class Episodes(Video):\n",
    "    def __init__(self, data):\n",
    "        Video.__init__(self)\n",
    "        self.number = data['number']\n",
    "        self.season = data['season']\n",
    "        self.date_aired = data['airdate']\n",
    "        self.summary = data['summary']\n",
    "        self.rating = data['rating']['average']\n",
    "        self.length = timedelta(minutes = data['runtime'])\n",
    "        if data ['image']:\n",
    "            self.link = data['image']['medium']\n",
    "        \n",
    "\n",
    "\n"
   ]
  },
  {
   "cell_type": "markdown",
   "metadata": {},
   "source": [
    "## POLYMORPHISM"
   ]
  },
  {
   "cell_type": "markdown",
   "metadata": {},
   "source": [
    "In object-oriented programming, polymorphism (from the Greek meaning “having multiple forms”) is the characteristic of being able to assign a different meaning or usage to something in different contexts — specifically, to allow an entity such as a function, or an object to have more than one form.\n",
    "<br><br>\n"
   ]
  },
  {
   "cell_type": "code",
   "execution_count": 27,
   "metadata": {},
   "outputs": [],
   "source": [
    "class Series():\n",
    "    def __init__(self):\n",
    "        self.id = None\n",
    "        self.network = None\n",
    "        self.season = None\n",
    "        self.summary = None\n",
    "        self.title = None\n",
    "        self.genres = []\n",
    "        self.episodes = []\n",
    "\n",
    "    def get_info(self, query=''):\n",
    "        data = None\n",
    "        while not data:\n",
    "            if not query: \n",
    "                query = input('What is the name of the series?')\n",
    "            r = requests.get(f'https://api.tvmaze.com/singlesearch/shows?q={query}')\n",
    "            if r.status_code == 200:\n",
    "                data = r.json()\n",
    "                self.id = data['id']\n",
    "                self.title = data['name']\n",
    "                self.genres = [genre for genre in data['genres']] #or data['genres']\n",
    "                if data['network']:\n",
    "                    self.network = data['network']['name']\n",
    "                else:\n",
    "                    self.network = data['webChannel']['name']        \n",
    "\n",
    "            else:\n",
    "                print(f'Series Error:{r.status_code}')\n",
    "\n",
    "\n",
    "       \n",
    "\n",
    "#    api cal for episodes using the id from the seriese which is self.id\n",
    "\n",
    "        r = requests.get(f\"https://api.tvmaze.com/shows/{self.id}/episodes\")\n",
    "        if r.status_code == 200:\n",
    "            episodes = r.json() #list of episode dictionaries that come back from \n",
    "\n",
    "            self.seasons = episodes[-1]['season']   #this episode is refrencing the \"episodes\" in line 36. r.json()\n",
    "            self.episodes = [Episodes(ep) for ep in episodes] #ep is holding the placeholder for data. each episode {} becomes the data we're passing into an Episode\n",
    "# the for \"Episode is referencing the class Episode in the other cell.         \n",
    "            print(f'{self.title} has {len(self.episodes)} episodes')\n",
    "            \n",
    "        else:\n",
    "            print(f'Print Episdoe Error: status_code {r.status_code}')\n",
    "\n",
    "\n",
    "    def watch(self):\n",
    "        for i in range(len(self.episodes)):\n",
    "            if i > 0 and i % 3 == 0:\n",
    "                watching = input('Are you still watching? Touch grass y/n')\n",
    "                if watching.lower().strip() not in (\"yes\", \"y\", \"yeah\", \"ye\", \"si\", \"indeed\"):\n",
    "                    break     #class Video is using .play()\n",
    "            self.episodes[i].play()\n",
    "            sleep(self.episodes[i].length.seconds/1000)\n",
    "\n",
    "\n",
    "    def __len__(self):\n",
    "        return len(self.episodes)\n",
    "\n",
    "    def __repr__(self):\n",
    "        return f'Title: {self.title}'\n"
   ]
  },
  {
   "cell_type": "code",
   "execution_count": 28,
   "metadata": {},
   "outputs": [
    {
     "name": "stdout",
     "output_type": "stream",
     "text": [
      "Jujutsu Kaisen has 47 episodes\n"
     ]
    }
   ],
   "source": [
    "my_show = Series()\n",
    "\n",
    "my_show.get_info(\"Jujustu Kaisen\")"
   ]
  },
  {
   "cell_type": "code",
   "execution_count": 31,
   "metadata": {},
   "outputs": [
    {
     "name": "stdout",
     "output_type": "stream",
     "text": [
      "Now playing: None\n"
     ]
    },
    {
     "data": {
      "text/html": [
       "<img src=\"https://static.tvmaze.com/uploads/images/medium_landscape/288/721554.jpg\"/>"
      ],
      "text/plain": [
       "<IPython.core.display.Image object>"
      ]
     },
     "metadata": {},
     "output_type": "display_data"
    },
    {
     "name": "stdout",
     "output_type": "stream",
     "text": [
      "Now playing: None\n"
     ]
    },
    {
     "data": {
      "text/html": [
       "<img src=\"https://static.tvmaze.com/uploads/images/medium_landscape/288/721555.jpg\"/>"
      ],
      "text/plain": [
       "<IPython.core.display.Image object>"
      ]
     },
     "metadata": {},
     "output_type": "display_data"
    },
    {
     "name": "stdout",
     "output_type": "stream",
     "text": [
      "Now playing: None\n"
     ]
    },
    {
     "data": {
      "text/html": [
       "<img src=\"https://static.tvmaze.com/uploads/images/medium_landscape/288/721556.jpg\"/>"
      ],
      "text/plain": [
       "<IPython.core.display.Image object>"
      ]
     },
     "metadata": {},
     "output_type": "display_data"
    },
    {
     "name": "stdin",
     "output_type": "stream",
     "text": [
      "Are you still watching? Touch grass y/n n\n"
     ]
    }
   ],
   "source": [
    "my_show.watch()"
   ]
  },
  {
   "cell_type": "code",
   "execution_count": 37,
   "metadata": {},
   "outputs": [],
   "source": [
    "class User:\n",
    "    __id_counter = 1 #class attribute\n",
    "    def __init__(self,username,password):\n",
    "        self.username = username\n",
    "        self.password = password[::-2]\n",
    "        self.id = User.__id_counter\n",
    "        User.__id_counter += 1 \n",
    "        self.watch_list = [] \n",
    "\n",
    "    def __str__(self):\n",
    "        formatted_user = f\"\"\"\n",
    "        {self.id} - {self.username.title()}\n",
    "        pw: {self.password}\n",
    "        \"\"\"\n",
    "        return formatted_user\n",
    "\n",
    "    def __repr_(self):\n",
    "        return f\"<User {self.id} | {self.username}>\"\n",
    "\n",
    "    def check_password(self, password_guess):\n",
    "        return self.password == password_guess[::-2]"
   ]
  },
  {
   "cell_type": "code",
   "execution_count": null,
   "metadata": {},
   "outputs": [],
   "source": []
  },
  {
   "cell_type": "markdown",
   "metadata": {},
   "source": [
    "## ABSTRACTION"
   ]
  },
  {
   "cell_type": "markdown",
   "metadata": {},
   "source": [
    "Abstraction is a process of hiding the implementation details from the user, only the functionality will be provided to the user. We have a bit to do before this becomes visible. But you've seen it before with presenting the user with the option to enter inputs. We then take those input and do something with them.\n",
    "<br><br>"
   ]
  },
  {
   "cell_type": "code",
   "execution_count": 44,
   "metadata": {},
   "outputs": [],
   "source": [
    "from datetime import timedelta, date\n",
    "from IPython.display import Image\n",
    "import requests\n",
    "from time import sleep\n",
    "\n",
    "generic_image = 'codeflix.png'\n",
    "\n",
    "class Theatre():\n",
    "    def __init__(self):\n",
    "        self.users = set()\n",
    "        self.current_user = None\n",
    "#    adding a user to self.users\n",
    "    def add_user(self):\n",
    "        username = input(\"Enter a username:  \")\n",
    "\n",
    "        if username in (u.username for u in self.users):\n",
    "            print(\"User with thatname already exists. Please try another.\")\n",
    "\n",
    "        else:\n",
    "            password = input(\"Enter a password:  \")\n",
    "            user = User(username, password)\n",
    "            self.users.add(user)\n",
    "            print(f'{user} has been created')\n",
    "\n",
    "        self.login_user()\n",
    "\n",
    "#  login user \n",
    "    def login_user(self):\n",
    "        username = input('What is your username?')\n",
    "        password = input('What is your password?')\n",
    "\n",
    "        for user in self.users:\n",
    "            if user.username == username and user.check_password(password):\n",
    "                self.current_user = user\n",
    "                print(f'{user} has logged in')\n",
    "                break\n",
    "            else:\n",
    "                print(\"Username and/or password is incorrect.\")\n",
    "\n",
    "#     logout a user \n",
    "    def logout(self):\n",
    "        self.current_user = None\n",
    "        print(\"You logged out\")\n",
    "\n",
    "#      update user info\n",
    "    def update_user(self):\n",
    "        if self.current_user:\n",
    "            print(self.current_user)\n",
    "            new_user = input(\"Please enter the updated username or enter skip to keep your current username\")\n",
    "            if new_user.lower() != \"skip\":\n",
    "                self.current_user.username = new_user\n",
    "            new_pw = input(\"Enter the updated password or enter skip to keep the current password\")\n",
    "            if new_pw != \"skip\":\n",
    "                self.current._user.password = new_pw\n",
    "            print(f\"{self.current_user.username}'s info has been updated!\")\n",
    "        else:\n",
    "            print(\"Please login to update your information\")\n",
    "            self.login_user()\n",
    "\n",
    "#------------------------------------------------------------------------------------------------------------------------------------\n",
    "#watchlist section\n",
    "\n",
    "#add to watchlist\n",
    "    def add_to_watchlist(self, query=\"\"):\n",
    "        if self.current_user:\n",
    "            show = Series()\n",
    "            show.get_info(query)\n",
    "            self.current_user.watch_list.append(show)\n",
    "\n",
    "            print(f'{show.title} has been added to watchlist.')\n",
    "        else:\n",
    "            print('Please sign in to add to your watchlist')\n",
    "            self.login_user()\n",
    "\n",
    "# View watchlist ------------------------------------------------\n",
    "    def view_watch_list(self):\n",
    "        if self.current_user:\n",
    "            for series in self.current_user.watch_list:\n",
    "                print(f'\\n\\n {series} | Episodes: {len(series)}')\n",
    "                print(f'\\nSummary: \\n {series.summary}')\n",
    "                display (Image(series.episodes[0].link))\n",
    "        else:\n",
    "            print(\"Please sign in to add to your watchlist\")\n",
    "            self.login_user()\n",
    "\n",
    "# remove from watchlist --------------------------------\n",
    "    def delete(self):\n",
    "        if self.current_user:\n",
    "            print(\"Your current watchlist:  \")\n",
    "            self.view_watch_list()\n",
    "\n",
    "            response = input('What would you like to remove from your watch list?')\n",
    "\n",
    "            for series in self.current_user.watch_list:\n",
    "                if series.title.title() == response.title():\n",
    "                    self.current_user.watch_list.remove(series)\n",
    "                    print(f'{response.title()} has been removed from your watch list!')\n",
    "                    break\n",
    "            else:\n",
    "                print(\"That title is not in your watch list! \") #404 error\n",
    "\n",
    "            self.view_watch_list()\n",
    "\n",
    "        else:\n",
    "            print(\"Please sign in to add to your watchlist\")\n",
    "            self.login_user()\n",
    "\n",
    "        \n",
    "    \n",
    "\n",
    "    def choose_from_watch_list(self):\n",
    "        if self.current_user:\n",
    "            self.view_watch_list()\n",
    "\n",
    "            watch = input(\"What would you like to watch?\")\n",
    "            for series in self.current_user.watch_list:\n",
    "                if series.title.lower() == watch.lower().strip():\n",
    "                    series.watch()\n",
    "        else:\n",
    "            reponse = input(f'{watch} is not in your watch list... would you like to add it? y/n')\n",
    "            if response in (\"yes\", \"y\"):\n",
    "                self.add_to_watch_list(watch)\n",
    "\n",
    "                print(\"......\")\n",
    "                sleep(2)\n",
    "                print(\".......\")\n",
    "                self.current_user.watch_list[-1].watch()\n",
    "\n",
    "            else:\n",
    "                print(\"Please sign in to add to your watchlist\")\n",
    "\n",
    "# RUN IT----------------------------------\n",
    "    def run(self):\n",
    "        \"\"\"\n",
    "        Method allowing users to choose a series and play episodes\n",
    "        \"\"\"\n",
    "        display(Image(url=generic_image))\n",
    "\n",
    "        if self.users:\n",
    "            self.login_user()\n",
    "        else:\n",
    "            self.add_user()\n",
    "\n",
    "            print(\"\"\"\n",
    "            What would yoi like to do?\n",
    "            Add - add a new user\n",
    "            Login - login to your profile\n",
    "            Update - update user information\n",
    "            Logout - logout of your profile\n",
    "            Search - search for shows\n",
    "            Watch - pick something from watchlist\n",
    "            View - view your watchlist\n",
    "            Delete - delete from watchlist\n",
    "            Quit - close application\n",
    "            \n",
    "            \"\"\")\n",
    "        while True:\n",
    "            response = input(\"What would you like to do? (add, update, login, search, watch, view, delete, quit?)\")\n",
    "\n",
    "            if response == \"search\":\n",
    "                self.add_to_watchlist()\n",
    "            elif response == \"watch\":\n",
    "                self.choose_from_watch_list()\n",
    "            elif response == \"add\":\n",
    "                self.add_user()\n",
    "            elif response == \"logout\":\n",
    "                self.logout()\n",
    "                new_response = input(\"What would you like to do next? login, add, quit\").lower()\n",
    "                if new_response == \"add\":\n",
    "                    self.add_user()\n",
    "                elif new_response == \"login\":\n",
    "                    self.login_user()\n",
    "                elif new_response == \"quit\":\n",
    "                    print(\"Thanks!\")\n",
    "                    break\n",
    "\n",
    "                else:\n",
    "                    print(\"Please enter a valid response and try again!\")\n",
    "\n",
    "            elif response == \"login\":\n",
    "                self.login_user()\n",
    "            elif response == \" update\":\n",
    "                self.update_user()\n",
    "            elif response == \"view\":\n",
    "                self.view_watch_list()\n",
    "            elif response == \"delete\":\n",
    "                self.delete()\n",
    "            elif response == \"quit\":\n",
    "                print(f'Thanks for watching {self.current_user.username}! Now go outside')\n",
    "                break\n",
    "            else: \n",
    "                print(\"Please enter a valid response!\")\n",
    "\n"
   ]
  },
  {
   "cell_type": "code",
   "execution_count": 45,
   "metadata": {},
   "outputs": [],
   "source": [
    "codeflix = Theatre()"
   ]
  },
  {
   "cell_type": "code",
   "execution_count": 46,
   "metadata": {},
   "outputs": [
    {
     "data": {
      "text/html": [
       "<img src=\"codeflix.png\"/>"
      ],
      "text/plain": [
       "<IPython.core.display.Image object>"
      ]
     },
     "metadata": {},
     "output_type": "display_data"
    },
    {
     "name": "stdin",
     "output_type": "stream",
     "text": [
      "Enter a username:   miguel\n",
      "Enter a password:   1234\n"
     ]
    },
    {
     "name": "stdout",
     "output_type": "stream",
     "text": [
      "\n",
      "        3 - Miguel\n",
      "        pw: 42\n",
      "         has been created\n"
     ]
    },
    {
     "name": "stdin",
     "output_type": "stream",
     "text": [
      "What is your username? miguel\n",
      "What is your password? 1234\n"
     ]
    },
    {
     "name": "stdout",
     "output_type": "stream",
     "text": [
      "\n",
      "        3 - Miguel\n",
      "        pw: 42\n",
      "         has logged in\n",
      "\n",
      "            What would yoi like to do?\n",
      "            Add - add a new user\n",
      "            Login - login to your profile\n",
      "            Update - update user information\n",
      "            Logout - logout of your profile\n",
      "            Search - search for shows\n",
      "            Watch - pick something from watchlist\n",
      "            View - view your watchlist\n",
      "            Delete - delete from watchlist\n",
      "            Quit - close application\n",
      "            \n",
      "            \n"
     ]
    },
    {
     "name": "stdin",
     "output_type": "stream",
     "text": [
      "What would you like to do? (add, update, login, search, watch, view, delete, quit?) search\n",
      "What is the name of the series? Scrubs\n"
     ]
    },
    {
     "name": "stdout",
     "output_type": "stream",
     "text": [
      "Scrubs has 182 episodes\n",
      "Scrubs has been added to watchlist.\n"
     ]
    },
    {
     "name": "stdin",
     "output_type": "stream",
     "text": [
      "What would you like to do? (add, update, login, search, watch, view, delete, quit?) delete\n"
     ]
    },
    {
     "name": "stdout",
     "output_type": "stream",
     "text": [
      "Your current watchlist:  \n",
      "\n",
      "\n",
      " Title: Scrubs | Episodes: 182\n",
      "\n",
      "Summary: \n",
      " None\n"
     ]
    },
    {
     "data": {
      "image/jpeg": "[encoded data removed]",
      "text/plain": [
       "<IPython.core.display.Image object>"
      ]
     },
     "metadata": {},
     "output_type": "display_data"
    },
    {
     "name": "stdin",
     "output_type": "stream",
     "text": [
      "What would you like to remove from your watch list? Scrubs\n"
     ]
    },
    {
     "name": "stdout",
     "output_type": "stream",
     "text": [
      "Scrubs has been removed from your watch list!\n"
     ]
    },
    {
     "name": "stdin",
     "output_type": "stream",
     "text": [
      "What would you like to do? (add, update, login, search, watch, view, delete, quit?) quit\n"
     ]
    },
    {
     "name": "stdout",
     "output_type": "stream",
     "text": [
      "Thanks for watching miguel! Now go outside\n"
     ]
    }
   ],
   "source": [
    "codeflix.run()"
   ]
  },
  {
   "cell_type": "markdown",
   "metadata": {},
   "source": [
    "## Exercise 1"
   ]
  },
  {
   "cell_type": "markdown",
   "metadata": {},
   "source": [
    "<p>Describe in your own words the following concepts and give an analogy tying to a real-world concept."
   ]
  },
  {
   "cell_type": "markdown",
   "metadata": {},
   "source": [
    "#### Difference between a Class and an Object"
   ]
  },
  {
   "cell_type": "code",
   "execution_count": null,
   "metadata": {},
   "outputs": [],
   "source": [
    "They way that I have seen learned to understand what a class is:\n",
    "\n",
    "A class to my understand is a blueprint or even a template for creating an object or objects. \n",
    "a class contains attributes which are variables to can describe the class. In the class example of cars that we did, Car was the class \n",
    "and the attributes were model, doors, year and so on. Each are considered variables that later hold specific data. \n",
    "\n",
    "An Object is created from the class containing it's own set of attributes but calling from the class, kind of like calling a function, \n",
    "which would be Car, if we're still using the example. It can be named anything and asks a place holder. \n",
    "\n",
    "The way I can see this is just by the definition that I used for Class. It's like a house. The Class is the blueprint of the house and the object is \n",
    "wall colors, furniture or the details that can be arranged.\n"
   ]
  },
  {
   "cell_type": "markdown",
   "metadata": {},
   "source": [
    "#### Encapsulation"
   ]
  },
  {
   "cell_type": "code",
   "execution_count": null,
   "metadata": {},
   "outputs": [],
   "source": [
    "Encapsulation from my understanding is a way to restrict data or internal access from outside users. From the example given above, \n",
    "the user who is trying to use an app or even work a machine is given access through a button selection but is not given access\n",
    "to the coding itself. Encapsulation limits the interal access of apps or machines and allows the user to interact with the app or machine\n",
    "with certain commands and/or buttons. The user doesn't need to know how the code works they just have to know how to access certain areas \n",
    "in the app. "
   ]
  },
  {
   "cell_type": "markdown",
   "metadata": {},
   "source": [
    "#### Inheritance"
   ]
  },
  {
   "cell_type": "code",
   "execution_count": null,
   "metadata": {},
   "outputs": [],
   "source": [
    "Inheritance, as the name states, is when a certain class acquires or obtains attributes and methods from another Class. \n",
    "An analogy would be exactly how the term states:\n",
    "my grandpa has certain traits that my father inherited whether it would hair, eye color, skin tone, etc. \n",
    "Though my father didn't get all of my grandpa's traits, he still acquired some and made some of his own traits that were later passed\n",
    "on to me. I carry some traits from my father and even my grandfather but still have more own traits or attributes. "
   ]
  },
  {
   "cell_type": "markdown",
   "metadata": {},
   "source": [
    "#### Polymorphism"
   ]
  },
  {
   "cell_type": "code",
   "execution_count": null,
   "metadata": {},
   "outputs": [],
   "source": [
    "The way that I try to understand what Polymorphism is, I try to think of a base Class, that has parameters and a method or methods and another class inherts \n",
    "from the base Class but with different parameters. Now they may have the same method or methods but call something differently \n",
    "because of the class. \n",
    "\n",
    "okay this might be a little confusing because putting it into words might confuse me a little:\n",
    "The analogy I can think of is my tv and my sound bar. I have a remote that can control both but if i try to change the input or adjust the \n",
    "volume, my control can't control both at the same time. So I have to push a button on the remote to control a specific device. Now, my control can power \n",
    "off both of them but can't control the volumes for both at the same time. "
   ]
  },
  {
   "cell_type": "markdown",
   "metadata": {},
   "source": [
    "#### Abstraction"
   ]
  },
  {
   "cell_type": "code",
   "execution_count": null,
   "metadata": {},
   "outputs": [],
   "source": [
    "Abstraction kind of reminds me of encapsulation in the sense that it allows the user to only see what a specific object does rather than\n",
    "know the intricates of the object. So a user can see that in order to watch a movie on netflix, I need to login but the user can see the intricate \n",
    "details in coding and how it works. \n",
    "\n",
    "So once again, I'll bring up my remote, my tv and soundbar. My remote can control the volume, change the channel, adjust settings, etc. by the push \n",
    "of a button BUT wont it would show me is how the button responds internally with the motherboard and other nodes and channels to the tv. \n",
    "It just tells me, \"hey if you need to raise the volume, push this button here with this logo or photo.\" but it doesn't tell me \"hey by pushing\n",
    "here, the pressure of your thumbs presses on a node which then travels to the motherboard sending a laser or signal to the tv... and so on.\"\n",
    "\n",
    "the remote can work for both once again, but have different methods to work. "
   ]
  },
  {
   "cell_type": "markdown",
   "metadata": {},
   "source": [
    "##  Exercise 2 (Optional):\n",
    "Discuss what other classes, methods, or fields (attributes) we could make to improve our streaming service using these principles. <br> <br>\n",
    "Start making a few of them and see where it leads. Make sure you either write out your thoughts in the below cell  or comment where you added code to the above Classes."
   ]
  },
  {
   "cell_type": "code",
   "execution_count": null,
   "metadata": {},
   "outputs": [],
   "source": [
    "I have an idea like my adding a subcription attribute asking whether the subscribed monthly or annually. but honestly, my brain is still taking\n",
    "in the past 2 lessons. "
   ]
  }
 ],
 "metadata": {
  "kernelspec": {
   "display_name": "Python 3 (ipykernel)",
   "language": "python",
   "name": "python3"
  },
  "language_info": {
   "codemirror_mode": {
    "name": "ipython",
    "version": 3
   },
   "file_extension": ".py",
   "mimetype": "text/x-python",
   "name": "python",
   "nbconvert_exporter": "python",
   "pygments_lexer": "ipython3",
   "version": "3.12.0"
  }
 },
 "nbformat": 4,
 "nbformat_minor": 4
}
